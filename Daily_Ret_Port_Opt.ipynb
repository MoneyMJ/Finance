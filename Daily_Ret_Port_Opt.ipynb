{
  "nbformat": 4,
  "nbformat_minor": 0,
  "metadata": {
    "colab": {
      "name": "Daily_Ret_Port_Opt.ipynb",
      "provenance": [],
      "collapsed_sections": [],
      "authorship_tag": "ABX9TyNfpDIHi42EzWFmca4sEW8q",
      "include_colab_link": true
    },
    "kernelspec": {
      "name": "python3",
      "display_name": "Python 3"
    },
    "language_info": {
      "name": "python"
    }
  },
  "cells": [
    {
      "cell_type": "markdown",
      "metadata": {
        "id": "view-in-github",
        "colab_type": "text"
      },
      "source": [
        "<a href=\"https://colab.research.google.com/github/MoneyMJ/Finance/blob/main/Daily_Ret_Port_Opt.ipynb\" target=\"_parent\"><img src=\"https://colab.research.google.com/assets/colab-badge.svg\" alt=\"Open In Colab\"/></a>"
      ]
    },
    {
      "cell_type": "code",
      "metadata": {
        "id": "I2uY68ns1tqZ"
      },
      "source": [
        "# Description: Portfolio Optimization of a user with the help of efficient frontier. "
      ],
      "execution_count": null,
      "outputs": []
    },
    {
      "cell_type": "code",
      "metadata": {
        "id": "azzROkCtvwBT"
      },
      "source": [
        "#Importing libraries\n",
        "import pandas as pd\n",
        "import numpy as np\n",
        "from datetime import datetime\n",
        "from pandas_datareader import data as web\n",
        "import matplotlib.pyplot as plt\n",
        "plt.style.use('fivethirtyeight')\n",
        "import seaborn as sns"
      ],
      "execution_count": null,
      "outputs": []
    },
    {
      "cell_type": "code",
      "metadata": {
        "id": "QgYK6RJx1t4f"
      },
      "source": [
        "# Getting the tickers\n",
        "#FAANG- acebook, Apple, Amazon, Netflix, Google\n",
        "assets=['FB','AMZN','AAPL','NFLX','GOOG']"
      ],
      "execution_count": null,
      "outputs": []
    },
    {
      "cell_type": "code",
      "metadata": {
        "id": "Zuxte1SWxfm3"
      },
      "source": [
        "#Assigning weights to the stocks\n",
        "weights=np.array([0.2,0.2,0.2,0.2,0.2])"
      ],
      "execution_count": null,
      "outputs": []
    },
    {
      "cell_type": "code",
      "metadata": {
        "id": "C0JfbAHHxkzC"
      },
      "source": [
        "#Accesing the starting date of stock\n"
      ],
      "execution_count": null,
      "outputs": []
    },
    {
      "cell_type": "code",
      "metadata": {
        "id": "qtb-iH68xk2T"
      },
      "source": [
        "#Last date\n"
      ],
      "execution_count": null,
      "outputs": []
    },
    {
      "cell_type": "code",
      "metadata": {
        "colab": {
          "base_uri": "https://localhost:8080/",
          "height": 447
        },
        "id": "m25UETHLyz2N",
        "outputId": "f538ec25-e907-4dd9-f02c-9abdec02559d"
      },
      "source": [
        "#Dataframe df for storing the closing values of the stock\n",
        "import time\n",
        "import datetime\n",
        "\n",
        "df=pd.DataFrame()\n",
        "\n",
        "for ticker in assets:\n",
        "  period1 = int(time.mktime(datetime.datetime(2013, 1, 1, 00, 00).timetuple()))\n",
        "  period2 = int(time.mktime(datetime.datetime(2021, 8, 7, 00, 00).timetuple()))\n",
        "  interval = '1d' # 1d, 1m\n",
        "\n",
        "  query_string = f'https://query1.finance.yahoo.com/v7/finance/download/{ticker}?period1={period1}&period2={period2}&interval={interval}&events=history&includeAdjustedClose=true'\n",
        "\n",
        "  df1 = pd.read_csv(query_string)\n",
        "  df['Date']=df1['Date']\n",
        "  df[ticker]=df1['Adj Close']\n",
        "  \n",
        "df=df[['Date','FB','AMZN','AAPL','NFLX','GOOG']]\n",
        "df=df.set_index('Date')\n",
        "df"
      ],
      "execution_count": null,
      "outputs": [
        {
          "output_type": "execute_result",
          "data": {
            "text/html": [
              "<div>\n",
              "<style scoped>\n",
              "    .dataframe tbody tr th:only-of-type {\n",
              "        vertical-align: middle;\n",
              "    }\n",
              "\n",
              "    .dataframe tbody tr th {\n",
              "        vertical-align: top;\n",
              "    }\n",
              "\n",
              "    .dataframe thead th {\n",
              "        text-align: right;\n",
              "    }\n",
              "</style>\n",
              "<table border=\"1\" class=\"dataframe\">\n",
              "  <thead>\n",
              "    <tr style=\"text-align: right;\">\n",
              "      <th></th>\n",
              "      <th>FB</th>\n",
              "      <th>AMZN</th>\n",
              "      <th>AAPL</th>\n",
              "      <th>NFLX</th>\n",
              "      <th>GOOG</th>\n",
              "    </tr>\n",
              "    <tr>\n",
              "      <th>Date</th>\n",
              "      <th></th>\n",
              "      <th></th>\n",
              "      <th></th>\n",
              "      <th></th>\n",
              "      <th></th>\n",
              "    </tr>\n",
              "  </thead>\n",
              "  <tbody>\n",
              "    <tr>\n",
              "      <th>2013-01-02</th>\n",
              "      <td>28.000000</td>\n",
              "      <td>257.309998</td>\n",
              "      <td>17.010899</td>\n",
              "      <td>13.144286</td>\n",
              "      <td>360.274597</td>\n",
              "    </tr>\n",
              "    <tr>\n",
              "      <th>2013-01-03</th>\n",
              "      <td>27.770000</td>\n",
              "      <td>258.480011</td>\n",
              "      <td>16.796177</td>\n",
              "      <td>13.798571</td>\n",
              "      <td>360.483826</td>\n",
              "    </tr>\n",
              "    <tr>\n",
              "      <th>2013-01-04</th>\n",
              "      <td>28.760000</td>\n",
              "      <td>259.149994</td>\n",
              "      <td>16.328323</td>\n",
              "      <td>13.711429</td>\n",
              "      <td>367.607117</td>\n",
              "    </tr>\n",
              "    <tr>\n",
              "      <th>2013-01-07</th>\n",
              "      <td>29.420000</td>\n",
              "      <td>268.459991</td>\n",
              "      <td>16.232281</td>\n",
              "      <td>14.171429</td>\n",
              "      <td>366.003143</td>\n",
              "    </tr>\n",
              "    <tr>\n",
              "      <th>2013-01-08</th>\n",
              "      <td>29.059999</td>\n",
              "      <td>266.380005</td>\n",
              "      <td>16.275965</td>\n",
              "      <td>13.880000</td>\n",
              "      <td>365.280823</td>\n",
              "    </tr>\n",
              "    <tr>\n",
              "      <th>...</th>\n",
              "      <td>...</td>\n",
              "      <td>...</td>\n",
              "      <td>...</td>\n",
              "      <td>...</td>\n",
              "      <td>...</td>\n",
              "    </tr>\n",
              "    <tr>\n",
              "      <th>2021-07-01</th>\n",
              "      <td>354.390015</td>\n",
              "      <td>3432.969971</td>\n",
              "      <td>137.270004</td>\n",
              "      <td>533.539978</td>\n",
              "      <td>2527.370117</td>\n",
              "    </tr>\n",
              "    <tr>\n",
              "      <th>2021-07-02</th>\n",
              "      <td>354.700012</td>\n",
              "      <td>3510.979980</td>\n",
              "      <td>139.960007</td>\n",
              "      <td>533.979980</td>\n",
              "      <td>2574.379883</td>\n",
              "    </tr>\n",
              "    <tr>\n",
              "      <th>2021-07-06</th>\n",
              "      <td>352.779999</td>\n",
              "      <td>3675.739990</td>\n",
              "      <td>142.020004</td>\n",
              "      <td>541.640015</td>\n",
              "      <td>2595.419922</td>\n",
              "    </tr>\n",
              "    <tr>\n",
              "      <th>2021-07-07</th>\n",
              "      <td>350.489990</td>\n",
              "      <td>3696.580078</td>\n",
              "      <td>144.570007</td>\n",
              "      <td>535.960022</td>\n",
              "      <td>2601.550049</td>\n",
              "    </tr>\n",
              "    <tr>\n",
              "      <th>2021-07-08</th>\n",
              "      <td>345.649994</td>\n",
              "      <td>3731.409912</td>\n",
              "      <td>143.240005</td>\n",
              "      <td>530.760010</td>\n",
              "      <td>2583.540039</td>\n",
              "    </tr>\n",
              "  </tbody>\n",
              "</table>\n",
              "<p>2144 rows × 5 columns</p>\n",
              "</div>"
            ],
            "text/plain": [
              "                    FB         AMZN        AAPL        NFLX         GOOG\n",
              "Date                                                                    \n",
              "2013-01-02   28.000000   257.309998   17.010899   13.144286   360.274597\n",
              "2013-01-03   27.770000   258.480011   16.796177   13.798571   360.483826\n",
              "2013-01-04   28.760000   259.149994   16.328323   13.711429   367.607117\n",
              "2013-01-07   29.420000   268.459991   16.232281   14.171429   366.003143\n",
              "2013-01-08   29.059999   266.380005   16.275965   13.880000   365.280823\n",
              "...                ...          ...         ...         ...          ...\n",
              "2021-07-01  354.390015  3432.969971  137.270004  533.539978  2527.370117\n",
              "2021-07-02  354.700012  3510.979980  139.960007  533.979980  2574.379883\n",
              "2021-07-06  352.779999  3675.739990  142.020004  541.640015  2595.419922\n",
              "2021-07-07  350.489990  3696.580078  144.570007  535.960022  2601.550049\n",
              "2021-07-08  345.649994  3731.409912  143.240005  530.760010  2583.540039\n",
              "\n",
              "[2144 rows x 5 columns]"
            ]
          },
          "metadata": {
            "tags": []
          },
          "execution_count": 7
        }
      ]
    },
    {
      "cell_type": "code",
      "metadata": {
        "colab": {
          "base_uri": "https://localhost:8080/",
          "height": 325
        },
        "id": "k0OhaHTnAobA",
        "outputId": "88dd0243-41bf-4c8f-e38a-1c6141918872"
      },
      "source": [
        "#Visulaizing the stock portfolio\n",
        "title='Portfolios Adj. Close Price History'\n",
        "\n",
        "#Get the stocks\n",
        "my_stocks=df\n",
        "\n",
        "#Create & Plot the graph\n",
        "sns.set_style('darkgrid')\n",
        "for c in my_stocks.columns.values:\n",
        "  plt.plot(my_stocks[c],label=c)\n",
        "\n",
        "plt.title(title)\n",
        "\n",
        "plt.xlabel('Date',fontsize=18)\n",
        "plt.ylabel('Adj. Price USD ($)',fontsize=18)\n",
        "plt.legend(my_stocks.columns.values,loc='upper left')\n",
        "plt.show()\n"
      ],
      "execution_count": null,
      "outputs": [
        {
          "output_type": "display_data",
          "data": {
            "image/png": "[encoded data removed]",
            "text/plain": [
              "<Figure size 432x288 with 1 Axes>"
            ]
          },
          "metadata": {
            "tags": []
          }
        }
      ]
    },
    {
      "cell_type": "code",
      "metadata": {
        "colab": {
          "base_uri": "https://localhost:8080/",
          "height": 447
        },
        "id": "WY5DC792EfHE",
        "outputId": "f51d5573-c260-4bfe-ffe8-0d164bcbf0e6"
      },
      "source": [
        "#Daily Simply Returns\n",
        "returns= df.pct_change()\n",
        "returns "
      ],
      "execution_count": null,
      "outputs": [
        {
          "output_type": "execute_result",
          "data": {
            "text/html": [
              "<div>\n",
              "<style scoped>\n",
              "    .dataframe tbody tr th:only-of-type {\n",
              "        vertical-align: middle;\n",
              "    }\n",
              "\n",
              "    .dataframe tbody tr th {\n",
              "        vertical-align: top;\n",
              "    }\n",
              "\n",
              "    .dataframe thead th {\n",
              "        text-align: right;\n",
              "    }\n",
              "</style>\n",
              "<table border=\"1\" class=\"dataframe\">\n",
              "  <thead>\n",
              "    <tr style=\"text-align: right;\">\n",
              "      <th></th>\n",
              "      <th>FB</th>\n",
              "      <th>AMZN</th>\n",
              "      <th>AAPL</th>\n",
              "      <th>NFLX</th>\n",
              "      <th>GOOG</th>\n",
              "    </tr>\n",
              "    <tr>\n",
              "      <th>Date</th>\n",
              "      <th></th>\n",
              "      <th></th>\n",
              "      <th></th>\n",
              "      <th></th>\n",
              "      <th></th>\n",
              "    </tr>\n",
              "  </thead>\n",
              "  <tbody>\n",
              "    <tr>\n",
              "      <th>2013-01-02</th>\n",
              "      <td>NaN</td>\n",
              "      <td>NaN</td>\n",
              "      <td>NaN</td>\n",
              "      <td>NaN</td>\n",
              "      <td>NaN</td>\n",
              "    </tr>\n",
              "    <tr>\n",
              "      <th>2013-01-03</th>\n",
              "      <td>-0.008214</td>\n",
              "      <td>0.004547</td>\n",
              "      <td>-0.012623</td>\n",
              "      <td>0.049777</td>\n",
              "      <td>0.000581</td>\n",
              "    </tr>\n",
              "    <tr>\n",
              "      <th>2013-01-04</th>\n",
              "      <td>0.035650</td>\n",
              "      <td>0.002592</td>\n",
              "      <td>-0.027855</td>\n",
              "      <td>-0.006315</td>\n",
              "      <td>0.019760</td>\n",
              "    </tr>\n",
              "    <tr>\n",
              "      <th>2013-01-07</th>\n",
              "      <td>0.022949</td>\n",
              "      <td>0.035925</td>\n",
              "      <td>-0.005882</td>\n",
              "      <td>0.033549</td>\n",
              "      <td>-0.004363</td>\n",
              "    </tr>\n",
              "    <tr>\n",
              "      <th>2013-01-08</th>\n",
              "      <td>-0.012237</td>\n",
              "      <td>-0.007748</td>\n",
              "      <td>0.002691</td>\n",
              "      <td>-0.020565</td>\n",
              "      <td>-0.001974</td>\n",
              "    </tr>\n",
              "    <tr>\n",
              "      <th>...</th>\n",
              "      <td>...</td>\n",
              "      <td>...</td>\n",
              "      <td>...</td>\n",
              "      <td>...</td>\n",
              "      <td>...</td>\n",
              "    </tr>\n",
              "    <tr>\n",
              "      <th>2021-07-01</th>\n",
              "      <td>0.019211</td>\n",
              "      <td>-0.002090</td>\n",
              "      <td>0.002263</td>\n",
              "      <td>0.010091</td>\n",
              "      <td>0.008399</td>\n",
              "    </tr>\n",
              "    <tr>\n",
              "      <th>2021-07-02</th>\n",
              "      <td>0.000875</td>\n",
              "      <td>0.022724</td>\n",
              "      <td>0.019596</td>\n",
              "      <td>0.000825</td>\n",
              "      <td>0.018600</td>\n",
              "    </tr>\n",
              "    <tr>\n",
              "      <th>2021-07-06</th>\n",
              "      <td>-0.005413</td>\n",
              "      <td>0.046927</td>\n",
              "      <td>0.014718</td>\n",
              "      <td>0.014345</td>\n",
              "      <td>0.008173</td>\n",
              "    </tr>\n",
              "    <tr>\n",
              "      <th>2021-07-07</th>\n",
              "      <td>-0.006491</td>\n",
              "      <td>0.005670</td>\n",
              "      <td>0.017955</td>\n",
              "      <td>-0.010487</td>\n",
              "      <td>0.002362</td>\n",
              "    </tr>\n",
              "    <tr>\n",
              "      <th>2021-07-08</th>\n",
              "      <td>-0.013809</td>\n",
              "      <td>0.009422</td>\n",
              "      <td>-0.009200</td>\n",
              "      <td>-0.009702</td>\n",
              "      <td>-0.006923</td>\n",
              "    </tr>\n",
              "  </tbody>\n",
              "</table>\n",
              "<p>2144 rows × 5 columns</p>\n",
              "</div>"
            ],
            "text/plain": [
              "                  FB      AMZN      AAPL      NFLX      GOOG\n",
              "Date                                                        \n",
              "2013-01-02       NaN       NaN       NaN       NaN       NaN\n",
              "2013-01-03 -0.008214  0.004547 -0.012623  0.049777  0.000581\n",
              "2013-01-04  0.035650  0.002592 -0.027855 -0.006315  0.019760\n",
              "2013-01-07  0.022949  0.035925 -0.005882  0.033549 -0.004363\n",
              "2013-01-08 -0.012237 -0.007748  0.002691 -0.020565 -0.001974\n",
              "...              ...       ...       ...       ...       ...\n",
              "2021-07-01  0.019211 -0.002090  0.002263  0.010091  0.008399\n",
              "2021-07-02  0.000875  0.022724  0.019596  0.000825  0.018600\n",
              "2021-07-06 -0.005413  0.046927  0.014718  0.014345  0.008173\n",
              "2021-07-07 -0.006491  0.005670  0.017955 -0.010487  0.002362\n",
              "2021-07-08 -0.013809  0.009422 -0.009200 -0.009702 -0.006923\n",
              "\n",
              "[2144 rows x 5 columns]"
            ]
          },
          "metadata": {
            "tags": []
          },
          "execution_count": 9
        }
      ]
    },
    {
      "cell_type": "code",
      "metadata": {
        "colab": {
          "base_uri": "https://localhost:8080/",
          "height": 203
        },
        "id": "_HPAZC18F1gc",
        "outputId": "ada45aa9-8f17-4b70-9334-41b851df4ab8"
      },
      "source": [
        "#Create & show annualized covariance matrix\n",
        "cov_matrix_annual=returns.cov()*252\n",
        "cov_matrix_annual"
      ],
      "execution_count": null,
      "outputs": [
        {
          "output_type": "execute_result",
          "data": {
            "text/html": [
              "<div>\n",
              "<style scoped>\n",
              "    .dataframe tbody tr th:only-of-type {\n",
              "        vertical-align: middle;\n",
              "    }\n",
              "\n",
              "    .dataframe tbody tr th {\n",
              "        vertical-align: top;\n",
              "    }\n",
              "\n",
              "    .dataframe thead th {\n",
              "        text-align: right;\n",
              "    }\n",
              "</style>\n",
              "<table border=\"1\" class=\"dataframe\">\n",
              "  <thead>\n",
              "    <tr style=\"text-align: right;\">\n",
              "      <th></th>\n",
              "      <th>FB</th>\n",
              "      <th>AMZN</th>\n",
              "      <th>AAPL</th>\n",
              "      <th>NFLX</th>\n",
              "      <th>GOOG</th>\n",
              "    </tr>\n",
              "  </thead>\n",
              "  <tbody>\n",
              "    <tr>\n",
              "      <th>FB</th>\n",
              "      <td>0.117091</td>\n",
              "      <td>0.054399</td>\n",
              "      <td>0.045063</td>\n",
              "      <td>0.056545</td>\n",
              "      <td>0.050286</td>\n",
              "    </tr>\n",
              "    <tr>\n",
              "      <th>AMZN</th>\n",
              "      <td>0.054399</td>\n",
              "      <td>0.091991</td>\n",
              "      <td>0.040090</td>\n",
              "      <td>0.062796</td>\n",
              "      <td>0.047110</td>\n",
              "    </tr>\n",
              "    <tr>\n",
              "      <th>AAPL</th>\n",
              "      <td>0.045063</td>\n",
              "      <td>0.040090</td>\n",
              "      <td>0.081346</td>\n",
              "      <td>0.035850</td>\n",
              "      <td>0.038569</td>\n",
              "    </tr>\n",
              "    <tr>\n",
              "      <th>NFLX</th>\n",
              "      <td>0.056545</td>\n",
              "      <td>0.062796</td>\n",
              "      <td>0.035850</td>\n",
              "      <td>0.206608</td>\n",
              "      <td>0.048792</td>\n",
              "    </tr>\n",
              "    <tr>\n",
              "      <th>GOOG</th>\n",
              "      <td>0.050286</td>\n",
              "      <td>0.047110</td>\n",
              "      <td>0.038569</td>\n",
              "      <td>0.048792</td>\n",
              "      <td>0.066085</td>\n",
              "    </tr>\n",
              "  </tbody>\n",
              "</table>\n",
              "</div>"
            ],
            "text/plain": [
              "            FB      AMZN      AAPL      NFLX      GOOG\n",
              "FB    0.117091  0.054399  0.045063  0.056545  0.050286\n",
              "AMZN  0.054399  0.091991  0.040090  0.062796  0.047110\n",
              "AAPL  0.045063  0.040090  0.081346  0.035850  0.038569\n",
              "NFLX  0.056545  0.062796  0.035850  0.206608  0.048792\n",
              "GOOG  0.050286  0.047110  0.038569  0.048792  0.066085"
            ]
          },
          "metadata": {
            "tags": []
          },
          "execution_count": 10
        }
      ]
    },
    {
      "cell_type": "code",
      "metadata": {
        "colab": {
          "base_uri": "https://localhost:8080/"
        },
        "id": "VJxOBPuDKII9",
        "outputId": "d6596a54-2f28-4ca6-96af-22756d51281f"
      },
      "source": [
        "#portflio variance\n",
        "port_variance=np.dot(weights.T,np.dot(cov_matrix_annual,weights))\n",
        "port_variance"
      ],
      "execution_count": null,
      "outputs": [
        {
          "output_type": "execute_result",
          "data": {
            "text/plain": [
              "0.060884681829856645"
            ]
          },
          "metadata": {
            "tags": []
          },
          "execution_count": 11
        }
      ]
    },
    {
      "cell_type": "code",
      "metadata": {
        "colab": {
          "base_uri": "https://localhost:8080/"
        },
        "id": "MBfplEeJKIMW",
        "outputId": "7686730b-b3ad-49e4-8554-dc2620f8887e"
      },
      "source": [
        "#Portfolio Volatality aka Std\n",
        "port_volatality=np.sqrt(port_variance)\n",
        "port_volatality"
      ],
      "execution_count": null,
      "outputs": [
        {
          "output_type": "execute_result",
          "data": {
            "text/plain": [
              "0.24674821545424933"
            ]
          },
          "metadata": {
            "tags": []
          },
          "execution_count": 13
        }
      ]
    },
    {
      "cell_type": "code",
      "metadata": {
        "colab": {
          "base_uri": "https://localhost:8080/"
        },
        "id": "Rpy6zoXmLr_X",
        "outputId": "7f2ec3ab-264f-474d-b812-9cb8d48a449c"
      },
      "source": [
        "#Annual Portfolio return\n",
        "ann_ret=np.sum(returns.mean()*weights)*252\n",
        "ann_ret"
      ],
      "execution_count": null,
      "outputs": [
        {
          "output_type": "execute_result",
          "data": {
            "text/plain": [
              "0.3609945394598304"
            ]
          },
          "metadata": {
            "tags": []
          },
          "execution_count": 14
        }
      ]
    },
    {
      "cell_type": "code",
      "metadata": {
        "colab": {
          "base_uri": "https://localhost:8080/"
        },
        "id": "vrngbddALsCx",
        "outputId": "f7b7b521-73fe-431b-91a0-64cdeee81a46"
      },
      "source": [
        "#Showing the expected annual return, volatality(risk), variance\n",
        "\n",
        "percent_var=str(round(port_variance,2)*100)+' %'\n",
        "percent_vol=str(round(port_volatality,2)*100)+' %'\n",
        "percent_ret=str(round(ann_ret,2)*100)+' %'\n",
        "print('Annual return '+percent_ret)\n",
        "print('Annual volatality/risk '+percent_vol)\n",
        "print('Annual Variance '+percent_var)\n"
      ],
      "execution_count": null,
      "outputs": [
        {
          "output_type": "stream",
          "text": [
            "Annual return 36.0 %\n",
            "Annual volatality/risk 25.0 %\n",
            "Annual Variance 6.0 %\n"
          ],
          "name": "stdout"
        }
      ]
    },
    {
      "cell_type": "code",
      "metadata": {
        "colab": {
          "base_uri": "https://localhost:8080/"
        },
        "id": "ahXg3AZXNiGx",
        "outputId": "36b2b8a7-2970-46fb-833f-266687bece50"
      },
      "source": [
        "pip install PyPortfolioOpt\n"
      ],
      "execution_count": null,
      "outputs": [
        {
          "output_type": "stream",
          "text": [
            "Collecting PyPortfolioOpt\n",
            "\u001b[?25l  Downloading https://files.pythonhosted.org/packages/12/dd/bbe51f36f323c4eee59ec94638b24de1daeda9537403c363cbfab8cd1d29/PyPortfolioOpt-1.4.2-py3-none-any.whl (60kB)\n",
            "\u001b[K     |████████████████████████████████| 61kB 2.2MB/s \n",
            "\u001b[?25hRequirement already satisfied: numpy<2.0,>=1.12 in /usr/local/lib/python3.7/dist-packages (from PyPortfolioOpt) (1.19.5)\n",
            "Requirement already satisfied: scipy<2.0,>=1.3 in /usr/local/lib/python3.7/dist-packages (from PyPortfolioOpt) (1.4.1)\n",
            "Requirement already satisfied: pandas>=0.19 in /usr/local/lib/python3.7/dist-packages (from PyPortfolioOpt) (1.1.5)\n",
            "Collecting cvxpy<2.0.0,>=1.1.10\n",
            "\u001b[?25l  Downloading https://files.pythonhosted.org/packages/f0/95/e7eb169a7802fe0c5c50dd7f29c2e9d357b5f29c70adc3f5ca2ab684a04b/cvxpy-1.1.13.tar.gz (1.3MB)\n",
            "\u001b[K     |████████████████████████████████| 1.3MB 5.6MB/s \n",
            "\u001b[?25h  Installing build dependencies ... \u001b[?25l\u001b[?25hdone\n",
            "  Getting requirements to build wheel ... \u001b[?25l\u001b[?25hdone\n",
            "    Preparing wheel metadata ... \u001b[?25l\u001b[?25hdone\n",
            "Requirement already satisfied: pytz>=2017.2 in /usr/local/lib/python3.7/dist-packages (from pandas>=0.19->PyPortfolioOpt) (2018.9)\n",
            "Requirement already satisfied: python-dateutil>=2.7.3 in /usr/local/lib/python3.7/dist-packages (from pandas>=0.19->PyPortfolioOpt) (2.8.1)\n",
            "Requirement already satisfied: ecos>=2 in /usr/local/lib/python3.7/dist-packages (from cvxpy<2.0.0,>=1.1.10->PyPortfolioOpt) (2.0.7.post1)\n",
            "Requirement already satisfied: scs>=1.1.6 in /usr/local/lib/python3.7/dist-packages (from cvxpy<2.0.0,>=1.1.10->PyPortfolioOpt) (2.1.4)\n",
            "Requirement already satisfied: osqp>=0.4.1 in /usr/local/lib/python3.7/dist-packages (from cvxpy<2.0.0,>=1.1.10->PyPortfolioOpt) (0.6.2.post0)\n",
            "Requirement already satisfied: six>=1.5 in /usr/local/lib/python3.7/dist-packages (from python-dateutil>=2.7.3->pandas>=0.19->PyPortfolioOpt) (1.15.0)\n",
            "Requirement already satisfied: qdldl in /usr/local/lib/python3.7/dist-packages (from osqp>=0.4.1->cvxpy<2.0.0,>=1.1.10->PyPortfolioOpt) (0.1.5.post0)\n",
            "Building wheels for collected packages: cvxpy\n",
            "  Building wheel for cvxpy (PEP 517) ... \u001b[?25l\u001b[?25hdone\n",
            "  Created wheel for cvxpy: filename=cvxpy-1.1.13-cp37-cp37m-linux_x86_64.whl size=2736192 sha256=b20509069626ca41b5da2cb7e1e46e0eb0bb9c70e75da56b02557fcddab70f8a\n",
            "  Stored in directory: /root/.cache/pip/wheels/f9/78/00/f29636789ee83434953b5442f16ec3f9834a68e7fd0393c220\n",
            "Successfully built cvxpy\n",
            "Installing collected packages: cvxpy, PyPortfolioOpt\n",
            "  Found existing installation: cvxpy 1.0.31\n",
            "    Uninstalling cvxpy-1.0.31:\n",
            "      Successfully uninstalled cvxpy-1.0.31\n",
            "Successfully installed PyPortfolioOpt-1.4.2 cvxpy-1.1.13\n"
          ],
          "name": "stdout"
        }
      ]
    },
    {
      "cell_type": "code",
      "metadata": {
        "id": "j2YTU0H0NiR3"
      },
      "source": [
        "from pypfopt.efficient_frontier import EfficientFrontier\n",
        "from pypfopt import risk_models\n",
        "from pypfopt import expected_returns\n"
      ],
      "execution_count": null,
      "outputs": []
    },
    {
      "cell_type": "code",
      "metadata": {
        "colab": {
          "base_uri": "https://localhost:8080/"
        },
        "id": "n1bd25oXNiYu",
        "outputId": "9b24879a-f24b-49a9-89dd-72d0661f3b20"
      },
      "source": [
        "#Portfolio Optimization\n",
        "\n",
        "# calculating the expected returns and the annualised sample covariance matrix of asset returns\n",
        "mu=expected_returns.mean_historical_return(df)\n",
        "S=risk_models.sample_cov(df)\n",
        "\n",
        "# Maximising the sharpe ratio\n",
        "ef=EfficientFrontier(mu,S)\n",
        "weights= ef.max_sharpe()\n",
        "cleaned_weights=ef.clean_weights()\n",
        "print(cleaned_weights)\n",
        "ef.portfolio_performance(verbose=True)"
      ],
      "execution_count": null,
      "outputs": [
        {
          "output_type": "stream",
          "text": [
            "OrderedDict([('FB', 0.12801), ('AMZN', 0.32456), ('AAPL', 0.24752), ('NFLX', 0.29991), ('GOOG', 0.0)])\n",
            "Expected annual return: 39.8%\n",
            "Annual volatility: 26.6%\n",
            "Sharpe Ratio: 1.42\n"
          ],
          "name": "stdout"
        },
        {
          "output_type": "execute_result",
          "data": {
            "text/plain": [
              "(0.39782087837780256, 0.26623838190770466, 1.4191074768054275)"
            ]
          },
          "metadata": {
            "tags": []
          },
          "execution_count": 24
        }
      ]
    },
    {
      "cell_type": "code",
      "metadata": {
        "colab": {
          "base_uri": "https://localhost:8080/"
        },
        "id": "ZQAyspkyVeiO",
        "outputId": "c4dbe95b-c0b6-478d-dbbd-35077d1d5027"
      },
      "source": [
        "from pypfopt.discrete_allocation import DiscreteAllocation, get_latest_prices\n",
        "\n",
        "latest_prices=get_latest_prices(df)\n",
        "weights=cleaned_weights\n",
        "da=DiscreteAllocation(weights,latest_prices, total_portfolio_value=15000)\n",
        "\n",
        "allocation, leftover = da.lp_portfolio()\n",
        "print('Discrete Allocation: ',allocation)\n",
        "print('Funds Remaining: ${:.2f}'.format(leftover))"
      ],
      "execution_count": null,
      "outputs": [
        {
          "output_type": "stream",
          "text": [
            "Discrete Allocation:  {'FB': 6, 'AMZN': 1, 'AAPL': 26, 'NFLX': 9}\n",
            "Funds Remaining: $693.61\n"
          ],
          "name": "stdout"
        }
      ]
    }
  ]
}
