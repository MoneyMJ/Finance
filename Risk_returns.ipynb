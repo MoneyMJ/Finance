{
  "nbformat": 4,
  "nbformat_minor": 0,
  "metadata": {
    "kernelspec": {
      "display_name": "Python 3",
      "language": "python",
      "name": "python3"
    },
    "language_info": {
      "codemirror_mode": {
        "name": "ipython",
        "version": 3
      },
      "file_extension": ".py",
      "mimetype": "text/x-python",
      "name": "python",
      "nbconvert_exporter": "python",
      "pygments_lexer": "ipython3",
      "version": "3.7.8"
    },
    "colab": {
      "name": "Risk_returns.ipynb",
      "provenance": [],
      "collapsed_sections": [],
      "include_colab_link": true
    }
  },
  "cells": [
    {
      "cell_type": "markdown",
      "metadata": {
        "id": "view-in-github",
        "colab_type": "text"
      },
      "source": [
        "<a href=\"https://colab.research.google.com/github/MoneyMJ/Finance/blob/main/Risk_returns.ipynb\" target=\"_parent\"><img src=\"https://colab.research.google.com/assets/colab-badge.svg\" alt=\"Open In Colab\"/></a>"
      ]
    },
    {
      "cell_type": "code",
      "metadata": {
        "colab": {
          "base_uri": "https://localhost:8080/"
        },
        "id": "K_ZA5EPAYcU1",
        "outputId": "1da67de3-2783-4c31-8974-0516430023e2"
      },
      "source": [
        "import time\n",
        "import datetime\n",
        "import pandas as pd\n",
        "import numpy as np\n",
        "from matplotlib import pyplot as plt\n",
        "\n",
        "ticker = 'AAPL'\n",
        "period1 = int(time.mktime(datetime.datetime(2020, 6, 1, 23, 59).timetuple()))\n",
        "period2 = int(time.mktime(datetime.datetime(2020, 12, 31, 23, 59).timetuple()))\n",
        "interval = '1wk' # 1d, 1m\n",
        "\n",
        "query_string = f'https://query1.finance.yahoo.com/v7/finance/download/{ticker}?period1={period1}&period2={period2}&interval={interval}&events=history&includeAdjustedClose=true'\n",
        "\n",
        "df1 = pd.read_csv(query_string)\n",
        "\n",
        "#df.to_csv('AAPL.csv')\n",
        "\n",
        "ticker = 'TSLA'\n",
        "period1 = int(time.mktime(datetime.datetime(2020, 6, 1, 23, 59).timetuple()))\n",
        "period2 = int(time.mktime(datetime.datetime(2020, 12, 31, 23, 59).timetuple()))\n",
        "interval = '1wk' # 1d, 1m\n",
        "\n",
        "query_string = f'https://query1.finance.yahoo.com/v7/finance/download/{ticker}?period1={period1}&period2={period2}&interval={interval}&events=history&includeAdjustedClose=true'\n",
        "\n",
        "df2 = pd.read_csv(query_string)\n",
        "#df.to_csv('TSLA.csv')\n",
        "\n",
        "df1=df1[['Close','Date']]\n",
        "\n",
        "df2=df2[['Close','Date']]\n",
        "\n",
        "apple_tesla=pd.merge(df1,df2,left_on='Date',right_on='Date')\n",
        "apple_tesla.columns=['Apple','Date','Tesla']\n",
        "apple_tesla=apple_tesla[['Date','Apple','Tesla']]\n",
        "\n",
        "# print(df1)\n",
        "# print(df2)\n",
        "print(apple_tesla.head(5))"
      ],
      "execution_count": null,
      "outputs": [
        {
          "output_type": "stream",
          "text": [
            "         Date      Apple       Tesla\n",
            "0  2020-06-01  82.875000  177.132004\n",
            "1  2020-06-08  84.699997  187.056000\n",
            "2  2020-06-15  87.430000  200.179993\n",
            "3  2020-06-22  88.407501  191.947998\n",
            "4  2020-06-29  91.027496  241.731995\n"
          ],
          "name": "stdout"
        }
      ]
    },
    {
      "cell_type": "code",
      "metadata": {
        "colab": {
          "base_uri": "https://localhost:8080/"
        },
        "id": "bE77Jp6VYcU4",
        "outputId": "f38a00fd-472d-495e-a800-0dfd5d8ea684"
      },
      "source": [
        "apple_tesla.isnull().sum()\n"
      ],
      "execution_count": null,
      "outputs": [
        {
          "output_type": "execute_result",
          "data": {
            "text/plain": [
              "Date     0\n",
              "Apple    0\n",
              "Tesla    0\n",
              "dtype: int64"
            ]
          },
          "metadata": {
            "tags": []
          },
          "execution_count": 11
        }
      ]
    },
    {
      "cell_type": "code",
      "metadata": {
        "colab": {
          "base_uri": "https://localhost:8080/",
          "height": 203
        },
        "id": "pgY8n2hhYcU5",
        "outputId": "e2b07240-243e-424c-930c-938bcbf4f39a"
      },
      "source": [
        "apple_tesla['Apple'] = (apple_tesla['Apple']-apple_tesla['Apple'].shift(1))/apple_tesla['Apple'].shift(1)\n",
        "\n",
        "apple_tesla['Tesla'] = (apple_tesla['Tesla']-apple_tesla['Tesla'].shift(1))/apple_tesla['Tesla'].shift(1)\n",
        "apple_tesla.head(5)"
      ],
      "execution_count": null,
      "outputs": [
        {
          "output_type": "execute_result",
          "data": {
            "text/html": [
              "<div>\n",
              "<style scoped>\n",
              "    .dataframe tbody tr th:only-of-type {\n",
              "        vertical-align: middle;\n",
              "    }\n",
              "\n",
              "    .dataframe tbody tr th {\n",
              "        vertical-align: top;\n",
              "    }\n",
              "\n",
              "    .dataframe thead th {\n",
              "        text-align: right;\n",
              "    }\n",
              "</style>\n",
              "<table border=\"1\" class=\"dataframe\">\n",
              "  <thead>\n",
              "    <tr style=\"text-align: right;\">\n",
              "      <th></th>\n",
              "      <th>Date</th>\n",
              "      <th>Apple</th>\n",
              "      <th>Tesla</th>\n",
              "    </tr>\n",
              "  </thead>\n",
              "  <tbody>\n",
              "    <tr>\n",
              "      <th>0</th>\n",
              "      <td>2020-06-01</td>\n",
              "      <td>NaN</td>\n",
              "      <td>NaN</td>\n",
              "    </tr>\n",
              "    <tr>\n",
              "      <th>1</th>\n",
              "      <td>2020-06-08</td>\n",
              "      <td>0.022021</td>\n",
              "      <td>0.056026</td>\n",
              "    </tr>\n",
              "    <tr>\n",
              "      <th>2</th>\n",
              "      <td>2020-06-15</td>\n",
              "      <td>0.032231</td>\n",
              "      <td>0.070161</td>\n",
              "    </tr>\n",
              "    <tr>\n",
              "      <th>3</th>\n",
              "      <td>2020-06-22</td>\n",
              "      <td>0.011180</td>\n",
              "      <td>-0.041123</td>\n",
              "    </tr>\n",
              "    <tr>\n",
              "      <th>4</th>\n",
              "      <td>2020-06-29</td>\n",
              "      <td>0.029635</td>\n",
              "      <td>0.259362</td>\n",
              "    </tr>\n",
              "  </tbody>\n",
              "</table>\n",
              "</div>"
            ],
            "text/plain": [
              "         Date     Apple     Tesla\n",
              "0  2020-06-01       NaN       NaN\n",
              "1  2020-06-08  0.022021  0.056026\n",
              "2  2020-06-15  0.032231  0.070161\n",
              "3  2020-06-22  0.011180 -0.041123\n",
              "4  2020-06-29  0.029635  0.259362"
            ]
          },
          "metadata": {
            "tags": []
          },
          "execution_count": 12
        }
      ]
    },
    {
      "cell_type": "code",
      "metadata": {
        "id": "Rzblr_kfYcU5"
      },
      "source": [
        "port_cumm_ret=apple_tesla.cumsum()\n"
      ],
      "execution_count": null,
      "outputs": []
    },
    {
      "cell_type": "code",
      "metadata": {
        "colab": {
          "base_uri": "https://localhost:8080/",
          "height": 340
        },
        "id": "7HKbj9JUYcU6",
        "outputId": "d5245620-e316-421b-8807-3f1093bf773e"
      },
      "source": [
        "port_cumm_ret.plot(figsize=([16,5]))\n",
        "plt.style.use('fivethirtyeight')"
      ],
      "execution_count": null,
      "outputs": [
        {
          "output_type": "display_data",
          "data": {
            "image/png": "[encoded data removed]",
            "text/plain": [
              "<Figure size 1152x360 with 1 Axes>"
            ]
          },
          "metadata": {
            "tags": []
          }
        }
      ]
    },
    {
      "cell_type": "code",
      "metadata": {
        "colab": {
          "base_uri": "https://localhost:8080/"
        },
        "id": "Vql3AfK7YcU6",
        "outputId": "416d6840-666f-4180-e3c7-3b5345e147eb"
      },
      "source": [
        "port_std = apple_tesla.std()\n",
        "print(port_std)"
      ],
      "execution_count": null,
      "outputs": [
        {
          "output_type": "stream",
          "text": [
            "Apple    0.045774\n",
            "Tesla    0.109050\n",
            "dtype: float64\n"
          ],
          "name": "stdout"
        }
      ]
    },
    {
      "cell_type": "code",
      "metadata": {
        "colab": {
          "base_uri": "https://localhost:8080/"
        },
        "id": "j4b9MGlEYcU6",
        "outputId": "ed756da8-dd87-40dd-af6f-1e62445e8509"
      },
      "source": [
        "sr_apple=apple_tesla['Apple'].mean()/apple_tesla['Apple'].std()*np.sqrt(252)\n",
        "print(sr_apple)\n"
      ],
      "execution_count": null,
      "outputs": [
        {
          "output_type": "stream",
          "text": [
            "5.825771425218394\n"
          ],
          "name": "stdout"
        }
      ]
    },
    {
      "cell_type": "code",
      "metadata": {
        "colab": {
          "base_uri": "https://localhost:8080/"
        },
        "id": "VZBdBY4tYcU7",
        "outputId": "94f4a781-62e8-4829-bfaf-9dd1a1beaa40"
      },
      "source": [
        "sr_tesla=apple_tesla['Tesla'].mean()/apple_tesla['Tesla'].std()*np.sqrt(252)\n",
        "print(sr_tesla)"
      ],
      "execution_count": null,
      "outputs": [
        {
          "output_type": "stream",
          "text": [
            "7.634699870675334\n"
          ],
          "name": "stdout"
        }
      ]
    },
    {
      "cell_type": "code",
      "metadata": {
        "id": "wdMRd1ITYcU7"
      },
      "source": [
        ""
      ],
      "execution_count": null,
      "outputs": []
    },
    {
      "cell_type": "code",
      "metadata": {
        "id": "o14Bxy_FYcU7"
      },
      "source": [
        ""
      ],
      "execution_count": null,
      "outputs": []
    }
  ]
}