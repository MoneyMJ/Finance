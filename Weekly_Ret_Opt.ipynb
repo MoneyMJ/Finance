{
  "nbformat": 4,
  "nbformat_minor": 0,
  "metadata": {
    "colab": {
      "name": "Weekly_Ret_Opt.ipynb",
      "provenance": [],
      "collapsed_sections": [],
      "authorship_tag": "ABX9TyNw8mD7A8/tWYgYR6bsgofy",
      "include_colab_link": true
    },
    "kernelspec": {
      "name": "python3",
      "display_name": "Python 3"
    },
    "language_info": {
      "name": "python"
    }
  },
  "cells": [
    {
      "cell_type": "markdown",
      "metadata": {
        "id": "view-in-github",
        "colab_type": "text"
      },
      "source": [
        "<a href=\"https://colab.research.google.com/github/MoneyMJ/Finance/blob/main/Weekly_Ret_Opt.ipynb\" target=\"_parent\"><img src=\"https://colab.research.google.com/assets/colab-badge.svg\" alt=\"Open In Colab\"/></a>"
      ]
    },
    {
      "cell_type": "code",
      "metadata": {
        "id": "I2uY68ns1tqZ"
      },
      "source": [
        "# Description: Portfolio Optimization of a user with the help of efficient frontier "
      ],
      "execution_count": null,
      "outputs": []
    },
    {
      "cell_type": "code",
      "metadata": {
        "id": "azzROkCtvwBT"
      },
      "source": [
        "#Importing libraries\n",
        "import pandas as pd\n",
        "import numpy as np\n",
        "from datetime import datetime\n",
        "from pandas_datareader import data as web\n",
        "import matplotlib.pyplot as plt\n",
        "plt.style.use('fivethirtyeight')\n",
        "import seaborn as sns"
      ],
      "execution_count": null,
      "outputs": []
    },
    {
      "cell_type": "code",
      "metadata": {
        "id": "QgYK6RJx1t4f"
      },
      "source": [
        "# Getting the tickers\n",
        "#FAANG- acebook, Apple, Amazon, Netflix, Google\n",
        "assets=['FB','AMZN','AAPL','NFLX','GOOG']"
      ],
      "execution_count": null,
      "outputs": []
    },
    {
      "cell_type": "code",
      "metadata": {
        "id": "Zuxte1SWxfm3"
      },
      "source": [
        "#Assigning weights to the stocks\n",
        "weights=np.array([0.2,0.2,0.2,0.2,0.2])"
      ],
      "execution_count": null,
      "outputs": []
    },
    {
      "cell_type": "code",
      "metadata": {
        "id": "C0JfbAHHxkzC"
      },
      "source": [
        "#Accesing the starting date of stock\n"
      ],
      "execution_count": null,
      "outputs": []
    },
    {
      "cell_type": "code",
      "metadata": {
        "id": "qtb-iH68xk2T"
      },
      "source": [
        "#Last date\n"
      ],
      "execution_count": null,
      "outputs": []
    },
    {
      "cell_type": "code",
      "metadata": {
        "colab": {
          "base_uri": "https://localhost:8080/",
          "height": 447
        },
        "id": "m25UETHLyz2N",
        "outputId": "87fdbb8b-8487-4cd5-d28a-f8735c9ff0a1"
      },
      "source": [
        "#Dataframe df for storing the closing values of the stock\n",
        "import time\n",
        "import datetime\n",
        "\n",
        "df=pd.DataFrame()\n",
        "\n",
        "for ticker in assets:\n",
        "  period1 = int(time.mktime(datetime.datetime(2013, 1, 1, 00, 00).timetuple()))\n",
        "  period2 = int(time.mktime(datetime.datetime(2021, 8, 7, 00, 00).timetuple()))\n",
        "  interval = '1wk' # 1d, 1m\n",
        "\n",
        "  query_string = f'https://query1.finance.yahoo.com/v7/finance/download/{ticker}?period1={period1}&period2={period2}&interval={interval}&events=history&includeAdjustedClose=true'\n",
        "\n",
        "  df1 = pd.read_csv(query_string)\n",
        "  df['Date']=df1['Date']\n",
        "  df[ticker]=df1['Adj Close']\n",
        "  \n",
        "df=df[['Date','FB','AMZN','AAPL','NFLX','GOOG']]\n",
        "df=df.set_index('Date')\n",
        "df"
      ],
      "execution_count": null,
      "outputs": [
        {
          "output_type": "execute_result",
          "data": {
            "text/html": [
              "<div>\n",
              "<style scoped>\n",
              "    .dataframe tbody tr th:only-of-type {\n",
              "        vertical-align: middle;\n",
              "    }\n",
              "\n",
              "    .dataframe tbody tr th {\n",
              "        vertical-align: top;\n",
              "    }\n",
              "\n",
              "    .dataframe thead th {\n",
              "        text-align: right;\n",
              "    }\n",
              "</style>\n",
              "<table border=\"1\" class=\"dataframe\">\n",
              "  <thead>\n",
              "    <tr style=\"text-align: right;\">\n",
              "      <th></th>\n",
              "      <th>FB</th>\n",
              "      <th>AMZN</th>\n",
              "      <th>AAPL</th>\n",
              "      <th>NFLX</th>\n",
              "      <th>GOOG</th>\n",
              "    </tr>\n",
              "    <tr>\n",
              "      <th>Date</th>\n",
              "      <th></th>\n",
              "      <th></th>\n",
              "      <th></th>\n",
              "      <th></th>\n",
              "      <th></th>\n",
              "    </tr>\n",
              "  </thead>\n",
              "  <tbody>\n",
              "    <tr>\n",
              "      <th>2013-01-01</th>\n",
              "      <td>29.420000</td>\n",
              "      <td>268.459991</td>\n",
              "      <td>16.232281</td>\n",
              "      <td>14.171429</td>\n",
              "      <td>366.003143</td>\n",
              "    </tr>\n",
              "    <tr>\n",
              "      <th>2013-01-08</th>\n",
              "      <td>30.950001</td>\n",
              "      <td>272.730011</td>\n",
              "      <td>15.545991</td>\n",
              "      <td>14.778571</td>\n",
              "      <td>360.274597</td>\n",
              "    </tr>\n",
              "    <tr>\n",
              "      <th>2013-01-15</th>\n",
              "      <td>29.660000</td>\n",
              "      <td>272.119995</td>\n",
              "      <td>15.491772</td>\n",
              "      <td>14.167143</td>\n",
              "      <td>350.939606</td>\n",
              "    </tr>\n",
              "    <tr>\n",
              "      <th>2013-01-22</th>\n",
              "      <td>32.470001</td>\n",
              "      <td>276.040009</td>\n",
              "      <td>13.937328</td>\n",
              "      <td>23.158571</td>\n",
              "      <td>373.963287</td>\n",
              "    </tr>\n",
              "    <tr>\n",
              "      <th>2013-01-29</th>\n",
              "      <td>28.110001</td>\n",
              "      <td>259.980011</td>\n",
              "      <td>13.704640</td>\n",
              "      <td>24.962856</td>\n",
              "      <td>378.092804</td>\n",
              "    </tr>\n",
              "    <tr>\n",
              "      <th>...</th>\n",
              "      <td>...</td>\n",
              "      <td>...</td>\n",
              "      <td>...</td>\n",
              "      <td>...</td>\n",
              "      <td>...</td>\n",
              "    </tr>\n",
              "    <tr>\n",
              "      <th>2021-06-15</th>\n",
              "      <td>332.290009</td>\n",
              "      <td>3453.959961</td>\n",
              "      <td>132.300003</td>\n",
              "      <td>497.000000</td>\n",
              "      <td>2529.100098</td>\n",
              "    </tr>\n",
              "    <tr>\n",
              "      <th>2021-06-22</th>\n",
              "      <td>355.640015</td>\n",
              "      <td>3443.889893</td>\n",
              "      <td>134.779999</td>\n",
              "      <td>533.030029</td>\n",
              "      <td>2536.389893</td>\n",
              "    </tr>\n",
              "    <tr>\n",
              "      <th>2021-06-29</th>\n",
              "      <td>354.700012</td>\n",
              "      <td>3510.979980</td>\n",
              "      <td>139.960007</td>\n",
              "      <td>533.979980</td>\n",
              "      <td>2574.379883</td>\n",
              "    </tr>\n",
              "    <tr>\n",
              "      <th>2021-07-06</th>\n",
              "      <td>350.489990</td>\n",
              "      <td>3696.580078</td>\n",
              "      <td>144.570007</td>\n",
              "      <td>535.960022</td>\n",
              "      <td>2601.550049</td>\n",
              "    </tr>\n",
              "    <tr>\n",
              "      <th>2021-07-08</th>\n",
              "      <td>345.649994</td>\n",
              "      <td>3731.409912</td>\n",
              "      <td>143.240005</td>\n",
              "      <td>530.760010</td>\n",
              "      <td>2583.540039</td>\n",
              "    </tr>\n",
              "  </tbody>\n",
              "</table>\n",
              "<p>446 rows × 5 columns</p>\n",
              "</div>"
            ],
            "text/plain": [
              "                    FB         AMZN        AAPL        NFLX         GOOG\n",
              "Date                                                                    \n",
              "2013-01-01   29.420000   268.459991   16.232281   14.171429   366.003143\n",
              "2013-01-08   30.950001   272.730011   15.545991   14.778571   360.274597\n",
              "2013-01-15   29.660000   272.119995   15.491772   14.167143   350.939606\n",
              "2013-01-22   32.470001   276.040009   13.937328   23.158571   373.963287\n",
              "2013-01-29   28.110001   259.980011   13.704640   24.962856   378.092804\n",
              "...                ...          ...         ...         ...          ...\n",
              "2021-06-15  332.290009  3453.959961  132.300003  497.000000  2529.100098\n",
              "2021-06-22  355.640015  3443.889893  134.779999  533.030029  2536.389893\n",
              "2021-06-29  354.700012  3510.979980  139.960007  533.979980  2574.379883\n",
              "2021-07-06  350.489990  3696.580078  144.570007  535.960022  2601.550049\n",
              "2021-07-08  345.649994  3731.409912  143.240005  530.760010  2583.540039\n",
              "\n",
              "[446 rows x 5 columns]"
            ]
          },
          "metadata": {
            "tags": []
          },
          "execution_count": 32
        }
      ]
    },
    {
      "cell_type": "code",
      "metadata": {
        "colab": {
          "base_uri": "https://localhost:8080/",
          "height": 325
        },
        "id": "k0OhaHTnAobA",
        "outputId": "682616c5-e5db-4fee-81b1-28165304175f"
      },
      "source": [
        "#Visulaizing the stock portfolio\n",
        "title='Portfolios Adj. Close Price History'\n",
        "\n",
        "#Get the stocks\n",
        "my_stocks=df\n",
        "\n",
        "#Create & Plot the graph\n",
        "sns.set_style('darkgrid')\n",
        "for c in my_stocks.columns.values:\n",
        "  plt.plot(my_stocks[c],label=c)\n",
        "\n",
        "plt.title(title)\n",
        "\n",
        "plt.xlabel('Date',fontsize=18)\n",
        "plt.ylabel('Adj. Price USD ($)',fontsize=18)\n",
        "plt.legend(my_stocks.columns.values,loc='upper left')\n",
        "plt.show()\n"
      ],
      "execution_count": null,
      "outputs": [
        {
          "output_type": "display_data",
          "data": {
            "image/png": "[encoded data removed]",
            "text/plain": [
              "<Figure size 432x288 with 1 Axes>"
            ]
          },
          "metadata": {
            "tags": []
          }
        }
      ]
    },
    {
      "cell_type": "code",
      "metadata": {
        "colab": {
          "base_uri": "https://localhost:8080/",
          "height": 447
        },
        "id": "WY5DC792EfHE",
        "outputId": "8bf405a4-58e8-4452-f73e-16e3c38e9c66"
      },
      "source": [
        "#Weekly Simply Returns\n",
        "returns= df.pct_change()\n",
        "returns "
      ],
      "execution_count": null,
      "outputs": [
        {
          "output_type": "execute_result",
          "data": {
            "text/html": [
              "<div>\n",
              "<style scoped>\n",
              "    .dataframe tbody tr th:only-of-type {\n",
              "        vertical-align: middle;\n",
              "    }\n",
              "\n",
              "    .dataframe tbody tr th {\n",
              "        vertical-align: top;\n",
              "    }\n",
              "\n",
              "    .dataframe thead th {\n",
              "        text-align: right;\n",
              "    }\n",
              "</style>\n",
              "<table border=\"1\" class=\"dataframe\">\n",
              "  <thead>\n",
              "    <tr style=\"text-align: right;\">\n",
              "      <th></th>\n",
              "      <th>FB</th>\n",
              "      <th>AMZN</th>\n",
              "      <th>AAPL</th>\n",
              "      <th>NFLX</th>\n",
              "      <th>GOOG</th>\n",
              "    </tr>\n",
              "    <tr>\n",
              "      <th>Date</th>\n",
              "      <th></th>\n",
              "      <th></th>\n",
              "      <th></th>\n",
              "      <th></th>\n",
              "      <th></th>\n",
              "    </tr>\n",
              "  </thead>\n",
              "  <tbody>\n",
              "    <tr>\n",
              "      <th>2013-01-01</th>\n",
              "      <td>NaN</td>\n",
              "      <td>NaN</td>\n",
              "      <td>NaN</td>\n",
              "      <td>NaN</td>\n",
              "      <td>NaN</td>\n",
              "    </tr>\n",
              "    <tr>\n",
              "      <th>2013-01-08</th>\n",
              "      <td>0.052005</td>\n",
              "      <td>0.015906</td>\n",
              "      <td>-0.042279</td>\n",
              "      <td>0.042843</td>\n",
              "      <td>-0.015652</td>\n",
              "    </tr>\n",
              "    <tr>\n",
              "      <th>2013-01-15</th>\n",
              "      <td>-0.041680</td>\n",
              "      <td>-0.002237</td>\n",
              "      <td>-0.003488</td>\n",
              "      <td>-0.041373</td>\n",
              "      <td>-0.025911</td>\n",
              "    </tr>\n",
              "    <tr>\n",
              "      <th>2013-01-22</th>\n",
              "      <td>0.094740</td>\n",
              "      <td>0.014405</td>\n",
              "      <td>-0.100340</td>\n",
              "      <td>0.634668</td>\n",
              "      <td>0.065606</td>\n",
              "    </tr>\n",
              "    <tr>\n",
              "      <th>2013-01-29</th>\n",
              "      <td>-0.134278</td>\n",
              "      <td>-0.058180</td>\n",
              "      <td>-0.016695</td>\n",
              "      <td>0.077910</td>\n",
              "      <td>0.011043</td>\n",
              "    </tr>\n",
              "    <tr>\n",
              "      <th>...</th>\n",
              "      <td>...</td>\n",
              "      <td>...</td>\n",
              "      <td>...</td>\n",
              "      <td>...</td>\n",
              "      <td>...</td>\n",
              "    </tr>\n",
              "    <tr>\n",
              "      <th>2021-06-15</th>\n",
              "      <td>-0.013303</td>\n",
              "      <td>0.020713</td>\n",
              "      <td>0.013949</td>\n",
              "      <td>-0.005781</td>\n",
              "      <td>0.000815</td>\n",
              "    </tr>\n",
              "    <tr>\n",
              "      <th>2021-06-22</th>\n",
              "      <td>0.070270</td>\n",
              "      <td>-0.002916</td>\n",
              "      <td>0.018745</td>\n",
              "      <td>0.072495</td>\n",
              "      <td>0.002882</td>\n",
              "    </tr>\n",
              "    <tr>\n",
              "      <th>2021-06-29</th>\n",
              "      <td>-0.002643</td>\n",
              "      <td>0.019481</td>\n",
              "      <td>0.038433</td>\n",
              "      <td>0.001782</td>\n",
              "      <td>0.014978</td>\n",
              "    </tr>\n",
              "    <tr>\n",
              "      <th>2021-07-06</th>\n",
              "      <td>-0.011869</td>\n",
              "      <td>0.052863</td>\n",
              "      <td>0.032938</td>\n",
              "      <td>0.003708</td>\n",
              "      <td>0.010554</td>\n",
              "    </tr>\n",
              "    <tr>\n",
              "      <th>2021-07-08</th>\n",
              "      <td>-0.013809</td>\n",
              "      <td>0.009422</td>\n",
              "      <td>-0.009200</td>\n",
              "      <td>-0.009702</td>\n",
              "      <td>-0.006923</td>\n",
              "    </tr>\n",
              "  </tbody>\n",
              "</table>\n",
              "<p>446 rows × 5 columns</p>\n",
              "</div>"
            ],
            "text/plain": [
              "                  FB      AMZN      AAPL      NFLX      GOOG\n",
              "Date                                                        \n",
              "2013-01-01       NaN       NaN       NaN       NaN       NaN\n",
              "2013-01-08  0.052005  0.015906 -0.042279  0.042843 -0.015652\n",
              "2013-01-15 -0.041680 -0.002237 -0.003488 -0.041373 -0.025911\n",
              "2013-01-22  0.094740  0.014405 -0.100340  0.634668  0.065606\n",
              "2013-01-29 -0.134278 -0.058180 -0.016695  0.077910  0.011043\n",
              "...              ...       ...       ...       ...       ...\n",
              "2021-06-15 -0.013303  0.020713  0.013949 -0.005781  0.000815\n",
              "2021-06-22  0.070270 -0.002916  0.018745  0.072495  0.002882\n",
              "2021-06-29 -0.002643  0.019481  0.038433  0.001782  0.014978\n",
              "2021-07-06 -0.011869  0.052863  0.032938  0.003708  0.010554\n",
              "2021-07-08 -0.013809  0.009422 -0.009200 -0.009702 -0.006923\n",
              "\n",
              "[446 rows x 5 columns]"
            ]
          },
          "metadata": {
            "tags": []
          },
          "execution_count": 24
        }
      ]
    },
    {
      "cell_type": "code",
      "metadata": {
        "colab": {
          "base_uri": "https://localhost:8080/",
          "height": 203
        },
        "id": "_HPAZC18F1gc",
        "outputId": "e0fd32e5-51f2-4e4b-c92e-92292504c4e3"
      },
      "source": [
        "#Create & show annualized covariance matrix\n",
        "cov_matrix_annual=returns.cov()*252/7\n",
        "cov_matrix_annual"
      ],
      "execution_count": null,
      "outputs": [
        {
          "output_type": "execute_result",
          "data": {
            "text/html": [
              "<div>\n",
              "<style scoped>\n",
              "    .dataframe tbody tr th:only-of-type {\n",
              "        vertical-align: middle;\n",
              "    }\n",
              "\n",
              "    .dataframe tbody tr th {\n",
              "        vertical-align: top;\n",
              "    }\n",
              "\n",
              "    .dataframe thead th {\n",
              "        text-align: right;\n",
              "    }\n",
              "</style>\n",
              "<table border=\"1\" class=\"dataframe\">\n",
              "  <thead>\n",
              "    <tr style=\"text-align: right;\">\n",
              "      <th></th>\n",
              "      <th>FB</th>\n",
              "      <th>AMZN</th>\n",
              "      <th>AAPL</th>\n",
              "      <th>NFLX</th>\n",
              "      <th>GOOG</th>\n",
              "    </tr>\n",
              "  </thead>\n",
              "  <tbody>\n",
              "    <tr>\n",
              "      <th>FB</th>\n",
              "      <td>0.080645</td>\n",
              "      <td>0.031300</td>\n",
              "      <td>0.026814</td>\n",
              "      <td>0.040984</td>\n",
              "      <td>0.031338</td>\n",
              "    </tr>\n",
              "    <tr>\n",
              "      <th>AMZN</th>\n",
              "      <td>0.031300</td>\n",
              "      <td>0.063210</td>\n",
              "      <td>0.024319</td>\n",
              "      <td>0.045997</td>\n",
              "      <td>0.029874</td>\n",
              "    </tr>\n",
              "    <tr>\n",
              "      <th>AAPL</th>\n",
              "      <td>0.026814</td>\n",
              "      <td>0.024319</td>\n",
              "      <td>0.056403</td>\n",
              "      <td>0.022245</td>\n",
              "      <td>0.023541</td>\n",
              "    </tr>\n",
              "    <tr>\n",
              "      <th>NFLX</th>\n",
              "      <td>0.040984</td>\n",
              "      <td>0.045997</td>\n",
              "      <td>0.022245</td>\n",
              "      <td>0.163169</td>\n",
              "      <td>0.039290</td>\n",
              "    </tr>\n",
              "    <tr>\n",
              "      <th>GOOG</th>\n",
              "      <td>0.031338</td>\n",
              "      <td>0.029874</td>\n",
              "      <td>0.023541</td>\n",
              "      <td>0.039290</td>\n",
              "      <td>0.042121</td>\n",
              "    </tr>\n",
              "  </tbody>\n",
              "</table>\n",
              "</div>"
            ],
            "text/plain": [
              "            FB      AMZN      AAPL      NFLX      GOOG\n",
              "FB    0.080645  0.031300  0.026814  0.040984  0.031338\n",
              "AMZN  0.031300  0.063210  0.024319  0.045997  0.029874\n",
              "AAPL  0.026814  0.024319  0.056403  0.022245  0.023541\n",
              "NFLX  0.040984  0.045997  0.022245  0.163169  0.039290\n",
              "GOOG  0.031338  0.029874  0.023541  0.039290  0.042121"
            ]
          },
          "metadata": {
            "tags": []
          },
          "execution_count": 37
        }
      ]
    },
    {
      "cell_type": "code",
      "metadata": {
        "colab": {
          "base_uri": "https://localhost:8080/"
        },
        "id": "VJxOBPuDKII9",
        "outputId": "498ed2d7-0d62-46d1-b0f4-fa99ef9725c7"
      },
      "source": [
        "#portflio variance\n",
        "port_variance=np.dot(weights.T,np.dot(cov_matrix_annual,weights))\n",
        "port_variance"
      ],
      "execution_count": null,
      "outputs": [
        {
          "output_type": "execute_result",
          "data": {
            "text/plain": [
              "0.04147812593901029"
            ]
          },
          "metadata": {
            "tags": []
          },
          "execution_count": 38
        }
      ]
    },
    {
      "cell_type": "code",
      "metadata": {
        "colab": {
          "base_uri": "https://localhost:8080/"
        },
        "id": "MBfplEeJKIMW",
        "outputId": "c0540d42-13a7-4f24-f192-3ce9dab447e4"
      },
      "source": [
        "#Portfolio Volatality aka Std\n",
        "port_volatality=np.sqrt(port_variance)\n",
        "port_volatality"
      ],
      "execution_count": null,
      "outputs": [
        {
          "output_type": "execute_result",
          "data": {
            "text/plain": [
              "0.20366179302709256"
            ]
          },
          "metadata": {
            "tags": []
          },
          "execution_count": 39
        }
      ]
    },
    {
      "cell_type": "code",
      "metadata": {
        "colab": {
          "base_uri": "https://localhost:8080/"
        },
        "id": "Rpy6zoXmLr_X",
        "outputId": "328923fc-bc97-4050-c3ec-45a2f713e1ea"
      },
      "source": [
        "#Annual Portfolio return\n",
        "ann_ret=np.sum(returns.mean()*weights)*252/7\n",
        "ann_ret"
      ],
      "execution_count": null,
      "outputs": [
        {
          "output_type": "execute_result",
          "data": {
            "text/plain": [
              "0.24758847090333372"
            ]
          },
          "metadata": {
            "tags": []
          },
          "execution_count": 42
        }
      ]
    },
    {
      "cell_type": "code",
      "metadata": {
        "colab": {
          "base_uri": "https://localhost:8080/"
        },
        "id": "vrngbddALsCx",
        "outputId": "3e6836dc-c614-4214-c7cc-ca225bb4db84"
      },
      "source": [
        "#Showing the expected annual return, volatality(risk), variance\n",
        "\n",
        "percent_var=str(round(port_variance,2)*100)+' %'\n",
        "percent_vol=str(round(port_volatality,2)*100)+' %'\n",
        "percent_ret=str(round(ann_ret,2)*100)+' %'\n",
        "print('Annual return '+percent_ret)\n",
        "print('Annual volatality/risk '+percent_vol)\n",
        "print('Annual Variance '+percent_var)\n"
      ],
      "execution_count": null,
      "outputs": [
        {
          "output_type": "stream",
          "text": [
            "Annual return 25.0 %\n",
            "Annual volatality/risk 20.0 %\n",
            "Annual Variance 4.0 %\n"
          ],
          "name": "stdout"
        }
      ]
    },
    {
      "cell_type": "code",
      "metadata": {
        "colab": {
          "base_uri": "https://localhost:8080/"
        },
        "id": "ahXg3AZXNiGx",
        "outputId": "0b0d347e-2d28-4f15-d45f-979da8e2b015"
      },
      "source": [
        "pip install PyPortfolioOpt\n"
      ],
      "execution_count": null,
      "outputs": [
        {
          "output_type": "stream",
          "text": [
            "Collecting PyPortfolioOpt\n",
            "\u001b[?25l  Downloading https://files.pythonhosted.org/packages/12/dd/bbe51f36f323c4eee59ec94638b24de1daeda9537403c363cbfab8cd1d29/PyPortfolioOpt-1.4.2-py3-none-any.whl (60kB)\n",
            "\u001b[K     |████████████████████████████████| 61kB 4.5MB/s \n",
            "\u001b[?25hCollecting cvxpy<2.0.0,>=1.1.10\n",
            "\u001b[?25l  Downloading https://files.pythonhosted.org/packages/f0/95/e7eb169a7802fe0c5c50dd7f29c2e9d357b5f29c70adc3f5ca2ab684a04b/cvxpy-1.1.13.tar.gz (1.3MB)\n",
            "\u001b[K     |████████████████████████████████| 1.3MB 10.1MB/s \n",
            "\u001b[?25h  Installing build dependencies ... \u001b[?25l\u001b[?25hdone\n",
            "  Getting requirements to build wheel ... \u001b[?25l\u001b[?25hdone\n",
            "    Preparing wheel metadata ... \u001b[?25l\u001b[?25hdone\n",
            "Requirement already satisfied: numpy<2.0,>=1.12 in /usr/local/lib/python3.7/dist-packages (from PyPortfolioOpt) (1.19.5)\n",
            "Requirement already satisfied: pandas>=0.19 in /usr/local/lib/python3.7/dist-packages (from PyPortfolioOpt) (1.1.5)\n",
            "Requirement already satisfied: scipy<2.0,>=1.3 in /usr/local/lib/python3.7/dist-packages (from PyPortfolioOpt) (1.4.1)\n",
            "Requirement already satisfied: scs>=1.1.6 in /usr/local/lib/python3.7/dist-packages (from cvxpy<2.0.0,>=1.1.10->PyPortfolioOpt) (2.1.4)\n",
            "Requirement already satisfied: osqp>=0.4.1 in /usr/local/lib/python3.7/dist-packages (from cvxpy<2.0.0,>=1.1.10->PyPortfolioOpt) (0.6.2.post0)\n",
            "Requirement already satisfied: ecos>=2 in /usr/local/lib/python3.7/dist-packages (from cvxpy<2.0.0,>=1.1.10->PyPortfolioOpt) (2.0.7.post1)\n",
            "Requirement already satisfied: pytz>=2017.2 in /usr/local/lib/python3.7/dist-packages (from pandas>=0.19->PyPortfolioOpt) (2018.9)\n",
            "Requirement already satisfied: python-dateutil>=2.7.3 in /usr/local/lib/python3.7/dist-packages (from pandas>=0.19->PyPortfolioOpt) (2.8.1)\n",
            "Requirement already satisfied: qdldl in /usr/local/lib/python3.7/dist-packages (from osqp>=0.4.1->cvxpy<2.0.0,>=1.1.10->PyPortfolioOpt) (0.1.5.post0)\n",
            "Requirement already satisfied: six>=1.5 in /usr/local/lib/python3.7/dist-packages (from python-dateutil>=2.7.3->pandas>=0.19->PyPortfolioOpt) (1.15.0)\n",
            "Building wheels for collected packages: cvxpy\n",
            "  Building wheel for cvxpy (PEP 517) ... \u001b[?25l\u001b[?25hdone\n",
            "  Created wheel for cvxpy: filename=cvxpy-1.1.13-cp37-cp37m-linux_x86_64.whl size=2736107 sha256=ae10f210f80f31370e7ecd60dbd7476a7c0cbee25e7bb90269e26043bb0708c9\n",
            "  Stored in directory: /root/.cache/pip/wheels/f9/78/00/f29636789ee83434953b5442f16ec3f9834a68e7fd0393c220\n",
            "Successfully built cvxpy\n",
            "Installing collected packages: cvxpy, PyPortfolioOpt\n",
            "  Found existing installation: cvxpy 1.0.31\n",
            "    Uninstalling cvxpy-1.0.31:\n",
            "      Successfully uninstalled cvxpy-1.0.31\n",
            "Successfully installed PyPortfolioOpt-1.4.2 cvxpy-1.1.13\n"
          ],
          "name": "stdout"
        }
      ]
    },
    {
      "cell_type": "code",
      "metadata": {
        "id": "j2YTU0H0NiR3"
      },
      "source": [
        "from pypfopt.efficient_frontier import EfficientFrontier\n",
        "from pypfopt import risk_models\n",
        "from pypfopt import expected_returns\n"
      ],
      "execution_count": null,
      "outputs": []
    },
    {
      "cell_type": "code",
      "metadata": {
        "colab": {
          "base_uri": "https://localhost:8080/"
        },
        "id": "n1bd25oXNiYu",
        "outputId": "73a67319-e04e-4964-f5e8-981fe42d800c"
      },
      "source": [
        "#Portfolio Optimization\n",
        "\n",
        "# calculating the expected returns and the annualised sample covariance matrix of asset returns\n",
        "mu=expected_returns.mean_historical_return(df)/7\n",
        "S=risk_models.sample_cov(df)/7\n",
        "\n",
        "# Maximising the sharpe ratio\n",
        "ef=EfficientFrontier(mu,S)\n",
        "weights= ef.max_sharpe()\n",
        "cleaned_weights=ef.clean_weights()\n",
        "print(cleaned_weights)\n",
        "ef.portfolio_performance(verbose=True)"
      ],
      "execution_count": null,
      "outputs": [
        {
          "output_type": "stream",
          "text": [
            "OrderedDict([('FB', 0.09305), ('AMZN', 0.26536), ('AAPL', 0.22268), ('NFLX', 0.41892), ('GOOG', 0.0)])\n",
            "Expected annual return: 65.4%\n",
            "Annual volatility: 24.4%\n",
            "Sharpe Ratio: 2.59\n"
          ],
          "name": "stdout"
        },
        {
          "output_type": "execute_result",
          "data": {
            "text/plain": [
              "(0.65390536673868, 0.24430210932007954, 2.594760104621735)"
            ]
          },
          "metadata": {
            "tags": []
          },
          "execution_count": 52
        }
      ]
    },
    {
      "cell_type": "code",
      "metadata": {
        "colab": {
          "base_uri": "https://localhost:8080/"
        },
        "id": "ZQAyspkyVeiO",
        "outputId": "a6880830-f1ee-420a-a37a-259aa0405822"
      },
      "source": [
        "from pypfopt.discrete_allocation import DiscreteAllocation, get_latest_prices\n",
        "\n",
        "latest_prices=get_latest_prices(df)\n",
        "weights=cleaned_weights\n",
        "da=DiscreteAllocation(weights,latest_prices, total_portfolio_value=15000)\n",
        "\n",
        "allocation, leftover = da.lp_portfolio()\n",
        "print('Discrete Allocation: ',allocation)\n",
        "print('Funds Remaining: ${:.2f}'.format(leftover))"
      ],
      "execution_count": null,
      "outputs": [
        {
          "output_type": "stream",
          "text": [
            "Discrete Allocation:  {'FB': 4, 'AMZN': 1, 'AAPL': 24, 'NFLX': 12}\n",
            "Funds Remaining: $79.11\n"
          ],
          "name": "stdout"
        }
      ]
    }
  ]
}